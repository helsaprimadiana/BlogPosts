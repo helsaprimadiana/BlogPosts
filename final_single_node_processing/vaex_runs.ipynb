{
 "cells": [
  {
   "cell_type": "code",
   "execution_count": 1,
   "metadata": {},
   "outputs": [],
   "source": [
    "import vaex\n",
    "import glob\n",
    "import pyarrow.parquet as pq\n",
    "from vaex.dataframe import DataFrame\n",
    "from datetime import datetime"
   ]
  },
  {
   "cell_type": "code",
   "execution_count": 5,
   "metadata": {
    "scrolled": true
   },
   "outputs": [
    {
     "name": "stdout",
     "output_type": "stream",
     "text": [
      "7min 6s ± 0 ns per loop (mean ± std. dev. of 1 run, 1 loop each)\n"
     ]
    }
   ],
   "source": [
    "%timeit -n 1 -r 1 vaex.open(\"./data/checkouts/Checkouts_By_Title_Data_Lens_*.csv\",dtype={\"BibNum\":\"int64\", \"Title\":\"str\",\"Author\":\"str\", \"Subjects\":\"str\", \"ItemBarcode\":\"str\",\"ItemType\":\"str\"}, header=0).export_hdf5(\"./data/checkouts/tmp.hdf5\")\n"
   ]
  },
  {
   "cell_type": "code",
   "execution_count": 6,
   "metadata": {},
   "outputs": [
    {
     "name": "stdout",
     "output_type": "stream",
     "text": [
      "10min 21s ± 0 ns per loop (mean ± std. dev. of 1 run, 1 loop each)\n"
     ]
    }
   ],
   "source": [
    "%timeit -n 1 -r 1 vaex.from_csv(\"./data/checkouts/Checkouts.csv\",dtype={\"BibNum\":\"int64\", \"Title\":\"str\",\"Author\":\"str\", \"Subjects\":\"str\", \"ItemBarcode\":\"str\",\"ItemType\":\"str\"}, header=0).export_hdf5(\"./data/checkouts/tmp.hdf5\")\n"
   ]
  },
  {
   "cell_type": "code",
   "execution_count": 5,
   "metadata": {},
   "outputs": [
    {
     "name": "stdout",
     "output_type": "stream",
     "text": [
      "19.9 s ± 1.64 s per loop (mean ± std. dev. of 10 runs, 1 loop each)\n"
     ]
    }
   ],
   "source": [
    "%timeit -n 1 -r 1 vaex.from_csv(\"./data/checkouts/Library_Collection_Inventory.csv\", header=0).export_hdf5(\"./data/checkouts/tmp.hdf5\")\n"
   ]
  },
  {
   "cell_type": "code",
   "execution_count": 2,
   "metadata": {},
   "outputs": [],
   "source": [
    "def get_checkouts(file_type:str)->DataFrame:\n",
    "    if file_type == \"multi-csv\":\n",
    "        return vaex.open(\"./data/checkouts/Checkouts_By_Title_Data_Lens_*.csv\", header=0, dtype={\"BibNum\":\"int64\", \"Title\":\"str\",\"Author\":\"str\", \"Subjects\":\"str\", \"ItemBarcode\":\"str\",\"ItemType\":\"str\"})\n",
    "    if file_type == \"single_csv\":\n",
    "        return vaex.from_csv(\"./data/checkouts/Checkouts.csv\", header=0,dtype={\"BibNum\":\"int64\", \"Title\":\"str\",\"Author\":\"str\", \"Subjects\":\"str\", \"ItemBarcode\":\"str\",\"ItemType\":\"str\"})\n",
    "    if file_type ==\"parquet\":\n",
    "        return vaex.open('./data/checkouts/checkouts_parquet/*.parquet')\n",
    "    else:\n",
    "        return vaex.open(\"./data/checkouts/checkouts.hdf5\")\n",
    "\n",
    "def get_inventory_no_dedup(file_type:str)->DataFrame:\n",
    "    if \"csv\" in file_type:\n",
    "        return vaex.from_csv(\"./data/checkouts/Library_Collection_Inventory.csv\", header=0)\n",
    "    if file_type ==\"parquet\":\n",
    "        return vaex.open('./data/checkouts/inventory_parquet/*.parquet')\n",
    "    else:\n",
    "        return vaex.open(\"./data/checkouts/inventory.hdf5\")\n",
    "\n",
    "def get_inventory(file_type:str)->DataFrame:\n",
    "    if \"csv\" in file_type:\n",
    "        df = vaex.open(\"./data/checkouts/Library_Collection_Inventory.csv\")\n",
    "        df = df.to_pandas_df()\n",
    "        df = df.drop_duplicates('BibNum')\n",
    "        return vaex.from_pandas(df)\n",
    "    if file_type ==\"parquet\":\n",
    "        df = vaex.open('./data/checkouts/inventory_parquet/*.parquet')\n",
    "        df = df.to_pandas_df()\n",
    "        df = df.drop_duplicates('BibNum')\n",
    "        return vaex.from_pandas(df)\n",
    "    else:\n",
    "        df = vaex.open(\"./data/checkouts/inventory.hdf5\")\n",
    "        df = df.to_pandas_df()\n",
    "        df = df.drop_duplicates('BibNum')\n",
    "        return vaex.from_pandas(df)"
   ]
  },
  {
   "cell_type": "code",
   "execution_count": 3,
   "metadata": {},
   "outputs": [],
   "source": [
    "def writter_csv(df: DataFrame) -> None:\n",
    "    df.export_csv('./output/output.csv', chunk_size=10000)\n",
    "         \n",
    "def writter_parquet(df: DataFrame) ->None:\n",
    "    df.export_parquet(\"./output/parquet_output\")\n",
    "    \n",
    "def writter_hdf5(df: DataFrame) ->None:\n",
    "    df.export_hdf5(\"./output/hdf5_file.hdf5\")\n",
    "\n",
    "def to_dt(x):\n",
    "    return datetime.strptime(x, \"%m/%d/%Y %I:%M:%S %p\")\n",
    "\n",
    "def add_formatted_checkout(file_type:str)->DataFrame:\n",
    "    df = get_checkouts(file_type)\n",
    "    df[\"CheckoutDateTime_formatted\"] = df.apply(to_dt, arguments=[df.CheckoutDateTime])\n",
    "    return df\n",
    "\n",
    "file_types = [\"hdf5\", \"parquet\", \"single-csv\"]# ,\"multi-csv\"]\n",
    "wr = [writter_hdf5, writter_csv, writter_parquet ]"
   ]
  },
  {
   "cell_type": "code",
   "execution_count": 4,
   "metadata": {},
   "outputs": [],
   "source": [
    "checkouts = get_checkouts(\"hdf5\")[[\"BibNumber\", \"CheckoutDateTime\"]]\n",
    "inventory = get_inventory(\"hdf5\")[[\"BibNum\", \"Author\"]]\n"
   ]
  },
  {
   "cell_type": "code",
   "execution_count": 5,
   "metadata": {},
   "outputs": [],
   "source": [
    "merged = checkouts.join(\n",
    "        inventory, left_on=\"BibNumber\", right_on=\"BibNum\", how=\"inner\"\n",
    "    )"
   ]
  },
  {
   "cell_type": "code",
   "execution_count": 6,
   "metadata": {},
   "outputs": [
    {
     "data": {
      "text/html": [
       "<table>\n",
       "<thead>\n",
       "<tr><th>#                            </th><th style=\"text-align: right;\">  BibNumber</th><th>CheckoutDateTime      </th><th style=\"text-align: right;\">     BibNum</th><th>Author                                     </th></tr>\n",
       "</thead>\n",
       "<tbody>\n",
       "<tr><td><i style='opacity: 0.6'>0</i></td><td style=\"text-align: right;\">2.54365e+06</td><td>01/02/2017 08:13:00 AM</td><td style=\"text-align: right;\">2.54365e+06</td><td>Cohen, Leonard, 1934-2016                  </td></tr>\n",
       "<tr><td><i style='opacity: 0.6'>1</i></td><td style=\"text-align: right;\">3.1723e+06 </td><td>01/02/2017 08:13:00 AM</td><td style=\"text-align: right;\">3.1723e+06 </td><td>Cotterill, Colin                           </td></tr>\n",
       "<tr><td><i style='opacity: 0.6'>2</i></td><td style=\"text-align: right;\">3.19972e+06</td><td>01/02/2017 08:33:00 AM</td><td style=\"text-align: right;\">3.19972e+06</td><td>None                                       </td></tr>\n",
       "<tr><td><i style='opacity: 0.6'>3</i></td><td style=\"text-align: right;\">3.21153e+06</td><td>01/02/2017 08:33:00 AM</td><td style=\"text-align: right;\">3.21153e+06</td><td>Shonen Knife (Musical group)               </td></tr>\n",
       "<tr><td><i style='opacity: 0.6'>4</i></td><td style=\"text-align: right;\">2.74354e+06</td><td>01/02/2017 08:33:00 AM</td><td style=\"text-align: right;\">2.74354e+06</td><td>Manning, Shari Y.                          </td></tr>\n",
       "<tr><td><i style='opacity: 0.6'>5</i></td><td style=\"text-align: right;\">3.10044e+06</td><td>01/02/2017 08:48:00 AM</td><td style=\"text-align: right;\">3.10044e+06</td><td>Marsh, Henry, 1950-                        </td></tr>\n",
       "<tr><td><i style='opacity: 0.6'>6</i></td><td style=\"text-align: right;\">2.6792e+06 </td><td>01/02/2017 08:48:00 AM</td><td style=\"text-align: right;\">2.6792e+06 </td><td>Mukherjee, Siddhartha                      </td></tr>\n",
       "<tr><td><i style='opacity: 0.6'>7</i></td><td style=\"text-align: right;\">3.16746e+06</td><td>01/02/2017 08:48:00 AM</td><td style=\"text-align: right;\">3.16746e+06</td><td>Hayden, Michael V. (Michael Vincent), 1945-</td></tr>\n",
       "<tr><td><i style='opacity: 0.6'>8</i></td><td style=\"text-align: right;\">3.17251e+06</td><td>01/02/2017 08:51:00 AM</td><td style=\"text-align: right;\">3.17251e+06</td><td>None                                       </td></tr>\n",
       "<tr><td><i style='opacity: 0.6'>9</i></td><td style=\"text-align: right;\">3.21697e+06</td><td>01/02/2017 08:51:00 AM</td><td style=\"text-align: right;\">3.21697e+06</td><td>None                                       </td></tr>\n",
       "</tbody>\n",
       "</table>"
      ],
      "text/plain": [
       "  #    BibNumber  CheckoutDateTime             BibNum  Author\n",
       "  0  2.54365e+06  01/02/2017 08:13:00 AM  2.54365e+06  Cohen, Leonard, 1934-2016\n",
       "  1  3.1723e+06   01/02/2017 08:13:00 AM  3.1723e+06   Cotterill, Colin\n",
       "  2  3.19972e+06  01/02/2017 08:33:00 AM  3.19972e+06  None\n",
       "  3  3.21153e+06  01/02/2017 08:33:00 AM  3.21153e+06  Shonen Knife (Musical group)\n",
       "  4  2.74354e+06  01/02/2017 08:33:00 AM  2.74354e+06  Manning, Shari Y.\n",
       "  5  3.10044e+06  01/02/2017 08:48:00 AM  3.10044e+06  Marsh, Henry, 1950-\n",
       "  6  2.6792e+06   01/02/2017 08:48:00 AM  2.6792e+06   Mukherjee, Siddhartha\n",
       "  7  3.16746e+06  01/02/2017 08:48:00 AM  3.16746e+06  Hayden, Michael V. (Michael Vincent), 1945-\n",
       "  8  3.17251e+06  01/02/2017 08:51:00 AM  3.17251e+06  None\n",
       "  9  3.21697e+06  01/02/2017 08:51:00 AM  3.21697e+06  None"
      ]
     },
     "execution_count": 6,
     "metadata": {},
     "output_type": "execute_result"
    }
   ],
   "source": [
    "merged.head()"
   ]
  },
  {
   "cell_type": "code",
   "execution_count": 8,
   "metadata": {},
   "outputs": [],
   "source": [
    "inventory = vaex.from_pandas(inventory)"
   ]
  },
  {
   "cell_type": "code",
   "execution_count": 9,
   "metadata": {},
   "outputs": [],
   "source": [
    "merged = checkouts.join(\n",
    "        inventory,\n",
    "        left_on=\"BibNumber\",\n",
    "        right_on=\"BibNum\",\n",
    "        how=\"inner\",\n",
    "        allow_duplication=True,\n",
    "    )"
   ]
  },
  {
   "cell_type": "code",
   "execution_count": null,
   "metadata": {},
   "outputs": [],
   "source": [
    "merged = merged.groupby(by = \"Subject\").agg({\"BibNum\":\"nunique\"})"
   ]
  },
  {
   "cell_type": "code",
   "execution_count": 7,
   "metadata": {},
   "outputs": [
    {
     "data": {
      "text/html": [
       "<table>\n",
       "<thead>\n",
       "<tr><th>#                                     </th><th>BibNumber  </th><th>ItemBarcode  </th><th>ItemType  </th><th>Collection  </th><th>CallNumber               </th><th>CheckoutDateTime      </th><th>CheckoutDateTime_formatted  </th></tr>\n",
       "</thead>\n",
       "<tbody>\n",
       "<tr><td><i style='opacity: 0.6'>0</i>         </td><td>2543647    </td><td>0010063298235</td><td>accd      </td><td>nacd        </td><td>CD 782.42166 C6606So     </td><td>01/02/2017 08:13:00 AM</td><td>2017-01-02 08:13:00         </td></tr>\n",
       "<tr><td><i style='opacity: 0.6'>1</i>         </td><td>3172300    </td><td>0010087522552</td><td>acbk      </td><td>namys       </td><td>MYSTERY COTTERI 2016     </td><td>01/02/2017 08:13:00 AM</td><td>2017-01-02 08:13:00         </td></tr>\n",
       "<tr><td><i style='opacity: 0.6'>2</i>         </td><td>2393405    </td><td>0010054483200</td><td>acbk      </td><td>camys       </td><td>MYSTERY MAY2006          </td><td>01/02/2017 08:24:00 AM</td><td>2017-01-02 08:24:00         </td></tr>\n",
       "<tr><td><i style='opacity: 0.6'>3</i>         </td><td>3199718    </td><td>0010088153514</td><td>acdvd     </td><td>nadvdnf     </td><td>DVD 781.66092 M3347G 2013</td><td>01/02/2017 08:33:00 AM</td><td>2017-01-02 08:33:00         </td></tr>\n",
       "<tr><td><i style='opacity: 0.6'>4</i>         </td><td>3211526    </td><td>0010089643810</td><td>accd      </td><td>nacd        </td><td>CD 782.42166 Sh75o       </td><td>01/02/2017 08:33:00 AM</td><td>2017-01-02 08:33:00         </td></tr>\n",
       "<tr><td>...                                   </td><td>...        </td><td>...          </td><td>...       </td><td>...         </td><td>...                      </td><td>...                   </td><td>...                         </td></tr>\n",
       "<tr><td><i style='opacity: 0.6'>91,980,688</i></td><td>2286226    </td><td>0010051021870</td><td>acbk      </td><td>nafic       </td><td>FIC BERRY2005            </td><td>08/07/2008 03:48:00 PM</td><td>2008-08-07 15:48:00         </td></tr>\n",
       "<tr><td><i style='opacity: 0.6'>91,980,689</i></td><td>1978353    </td><td>0010041313890</td><td>jcbk      </td><td>ncenf       </td><td>J628.92 BOELTS 1997      </td><td>03/12/2008 03:14:00 PM</td><td>2008-03-12 15:14:00         </td></tr>\n",
       "<tr><td><i style='opacity: 0.6'>91,980,690</i></td><td>2441227    </td><td>0010057847393</td><td>acbk      </td><td>canf        </td><td>747.78 L5161B 2007       </td><td>12/12/2008 02:42:00 PM</td><td>2008-12-12 14:42:00         </td></tr>\n",
       "<tr><td><i style='opacity: 0.6'>91,980,691</i></td><td>2241685    </td><td>0010049958126</td><td>acdvd     </td><td>nadvd       </td><td>DVD CASA_DE              </td><td>05/13/2008 05:59:00 PM</td><td>2008-05-13 17:59:00         </td></tr>\n",
       "<tr><td><i style='opacity: 0.6'>91,980,692</i></td><td>1972604    </td><td>0010044213543</td><td>accd      </td><td>nacd        </td><td>CD 782.42166 R651H       </td><td>06/10/2008 01:31:00 PM</td><td>2008-06-10 13:31:00         </td></tr>\n",
       "</tbody>\n",
       "</table>"
      ],
      "text/plain": [
       "#           BibNumber    ItemBarcode    ItemType    Collection    CallNumber                 CheckoutDateTime        CheckoutDateTime_formatted\n",
       "0           2543647      0010063298235  accd        nacd          CD 782.42166 C6606So       01/02/2017 08:13:00 AM  2017-01-02 08:13:00\n",
       "1           3172300      0010087522552  acbk        namys         MYSTERY COTTERI 2016       01/02/2017 08:13:00 AM  2017-01-02 08:13:00\n",
       "2           2393405      0010054483200  acbk        camys         MYSTERY MAY2006            01/02/2017 08:24:00 AM  2017-01-02 08:24:00\n",
       "3           3199718      0010088153514  acdvd       nadvdnf       DVD 781.66092 M3347G 2013  01/02/2017 08:33:00 AM  2017-01-02 08:33:00\n",
       "4           3211526      0010089643810  accd        nacd          CD 782.42166 Sh75o         01/02/2017 08:33:00 AM  2017-01-02 08:33:00\n",
       "...         ...          ...            ...         ...           ...                        ...                     ...\n",
       "91,980,688  2286226      0010051021870  acbk        nafic         FIC BERRY2005              08/07/2008 03:48:00 PM  2008-08-07 15:48:00\n",
       "91,980,689  1978353      0010041313890  jcbk        ncenf         J628.92 BOELTS 1997        03/12/2008 03:14:00 PM  2008-03-12 15:14:00\n",
       "91,980,690  2441227      0010057847393  acbk        canf          747.78 L5161B 2007         12/12/2008 02:42:00 PM  2008-12-12 14:42:00\n",
       "91,980,691  2241685      0010049958126  acdvd       nadvd         DVD CASA_DE                05/13/2008 05:59:00 PM  2008-05-13 17:59:00\n",
       "91,980,692  1972604      0010044213543  accd        nacd          CD 782.42166 R651H         06/10/2008 01:31:00 PM  2008-06-10 13:31:00"
      ]
     },
     "execution_count": 7,
     "metadata": {},
     "output_type": "execute_result"
    }
   ],
   "source": [
    "    \n",
    "    \n",
    "    \n",
    "    \n",
    "    \n",
    "    merged.head()"
   ]
  },
  {
   "cell_type": "code",
   "execution_count": 11,
   "metadata": {},
   "outputs": [
    {
     "name": "stdout",
     "output_type": "stream",
     "text": [
      "12.9 s ± 1.48 s per loop (mean ± std. dev. of 5 runs, 1 loop each)\n",
      "3min 12s ± 5.79 s per loop (mean ± std. dev. of 5 runs, 1 loop each)\n",
      "The slowest run took 8.13 times longer than the fastest. This could mean that an intermediate result is being cached.\n",
      "29.2 ms ± 31.6 ms per loop (mean ± std. dev. of 5 runs, 1 loop each)\n",
      "18.8 ms ± 9.41 ms per loop (mean ± std. dev. of 5 runs, 1 loop each)\n"
     ]
    }
   ],
   "source": [
    "%timeit -n 1 -r 5 get_checkouts(\"parquet\")\n",
    "%timeit -n 1 -r 5 get_checkouts(\"multi-csv\")\n",
    "%timeit -n 1 -r 5 get_checkouts(\"single-csv\")\n",
    "%timeit -n 1 -r 5 get_checkouts(\"hdf5\")"
   ]
  },
  {
   "cell_type": "code",
   "execution_count": 12,
   "metadata": {},
   "outputs": [
    {
     "name": "stdout",
     "output_type": "stream",
     "text": [
      "10.4 s ± 333 ms per loop (mean ± std. dev. of 5 runs, 1 loop each)\n",
      "3min 9s ± 922 ms per loop (mean ± std. dev. of 5 runs, 1 loop each)\n",
      "21.8 ms ± 12 ms per loop (mean ± std. dev. of 5 runs, 1 loop each)\n",
      "16.4 ms ± 2.95 ms per loop (mean ± std. dev. of 5 runs, 1 loop each)\n"
     ]
    }
   ],
   "source": [
    "%timeit -n 1 -r 5 get_checkouts(\"parquet\").head()\n",
    "%timeit -n 1 -r 5 get_checkouts(\"multi-csv\").head()\n",
    "%timeit -n 1 -r 5 get_checkouts(\"single-csv\").head()\n",
    "%timeit -n 1 -r 5 get_checkouts(\"hdf5\").head()"
   ]
  },
  {
   "cell_type": "code",
   "execution_count": 4,
   "metadata": {},
   "outputs": [
    {
     "name": "stdout",
     "output_type": "stream",
     "text": [
      "read + write. file_type: hdf5, writter: writter_hdf5\n",
      "5.23 s ± 116 ms per loop (mean ± std. dev. of 5 runs, 1 loop each)\n",
      "Read, dedup, write. file_type: hdf5, writter: writter_hdf5\n",
      "7.33 s ± 250 ms per loop (mean ± std. dev. of 5 runs, 1 loop each)\n",
      "Get row count. file_type: hdf5, writter: writter_hdf5\n",
      "The slowest run took 4.48 times longer than the fastest. This could mean that an intermediate result is being cached.\n",
      "57.6 ms ± 44.4 ms per loop (mean ± std. dev. of 5 runs, 1 loop each)\n",
      "Checkouts Read + Write. file_type: hdf5, writter: writter_hdf5\n",
      "1min 43s ± 0 ns per loop (mean ± std. dev. of 1 run, 1 loop each)\n",
      "Add timestamp and write. file_type: hdf5, writter: writter_hdf5\n"
     ]
    },
    {
     "name": "stderr",
     "output_type": "stream",
     "text": [
      "ERROR:MainThread:root:error creating dataset for 'CheckoutDateTime_formatted', with type dtype('O') \n",
      "Traceback (most recent call last):\n",
      "  File \"/Library/Frameworks/Python.framework/Versions/3.7/lib/python3.7/site-packages/vaex/hdf5/export.py\", line 201, in export_hdf5\n",
      "    array = h5column_output.require_dataset('data', shape=shape, dtype=dtype.newbyteorder(byteorder))\n",
      "  File \"/Library/Frameworks/Python.framework/Versions/3.7/lib/python3.7/site-packages/h5py/_hl/group.py\", line 191, in require_dataset\n",
      "    return self.create_dataset(name, *(shape, dtype), **kwds)\n",
      "  File \"/Library/Frameworks/Python.framework/Versions/3.7/lib/python3.7/site-packages/h5py/_hl/group.py\", line 136, in create_dataset\n",
      "    dsid = dataset.make_new_dset(self, shape, dtype, data, **kwds)\n",
      "  File \"/Library/Frameworks/Python.framework/Versions/3.7/lib/python3.7/site-packages/h5py/_hl/dataset.py\", line 118, in make_new_dset\n",
      "    tid = h5t.py_create(dtype, logical=1)\n",
      "  File \"h5py/h5t.pyx\", line 1634, in h5py.h5t.py_create\n",
      "  File \"h5py/h5t.pyx\", line 1656, in h5py.h5t.py_create\n",
      "  File \"h5py/h5t.pyx\", line 1711, in h5py.h5t.py_create\n",
      "TypeError: Object dtype dtype('O') has no native HDF5 equivalent\n"
     ]
    },
    {
     "name": "stdout",
     "output_type": "stream",
     "text": [
      "1min 50s ± 0 ns per loop (mean ± std. dev. of 1 run, 1 loop each)\n",
      "read + write. file_type: hdf5, writter: writter_csv\n",
      "31.3 s ± 2.54 s per loop (mean ± std. dev. of 5 runs, 1 loop each)\n",
      "Read, dedup, write. file_type: hdf5, writter: writter_csv\n",
      "12.4 s ± 544 ms per loop (mean ± std. dev. of 5 runs, 1 loop each)\n",
      "Get row count. file_type: hdf5, writter: writter_csv\n",
      "53.5 ms ± 34.7 ms per loop (mean ± std. dev. of 5 runs, 1 loop each)\n",
      "Checkouts Read + Write. file_type: hdf5, writter: writter_csv\n",
      "8min 3s ± 0 ns per loop (mean ± std. dev. of 1 run, 1 loop each)\n",
      "Add timestamp and write. file_type: hdf5, writter: writter_csv\n"
     ]
    },
    {
     "ename": "KeyboardInterrupt",
     "evalue": "",
     "output_type": "error",
     "traceback": [
      "\u001b[0;31m---------------------------------------------------------------------------\u001b[0m",
      "\u001b[0;31mKeyboardInterrupt\u001b[0m                         Traceback (most recent call last)",
      "\u001b[0;32m<ipython-input-4-9034e8d45a1c>\u001b[0m in \u001b[0;36m<module>\u001b[0;34m\u001b[0m\n\u001b[1;32m     12\u001b[0m             \u001b[0mget_ipython\u001b[0m\u001b[0;34m(\u001b[0m\u001b[0;34m)\u001b[0m\u001b[0;34m.\u001b[0m\u001b[0mrun_line_magic\u001b[0m\u001b[0;34m(\u001b[0m\u001b[0;34m'timeit'\u001b[0m\u001b[0;34m,\u001b[0m \u001b[0;34m'-n 1 -r 1 writter(get_checkouts(file_type))'\u001b[0m\u001b[0;34m)\u001b[0m\u001b[0;34m\u001b[0m\u001b[0;34m\u001b[0m\u001b[0m\n\u001b[1;32m     13\u001b[0m             \u001b[0mprint\u001b[0m\u001b[0;34m(\u001b[0m\u001b[0;34mf\"Add timestamp and write. file_type: {file_type}, writter: {writter.__name__}\"\u001b[0m\u001b[0;34m)\u001b[0m\u001b[0;34m\u001b[0m\u001b[0;34m\u001b[0m\u001b[0m\n\u001b[0;32m---> 14\u001b[0;31m             \u001b[0mget_ipython\u001b[0m\u001b[0;34m(\u001b[0m\u001b[0;34m)\u001b[0m\u001b[0;34m.\u001b[0m\u001b[0mrun_line_magic\u001b[0m\u001b[0;34m(\u001b[0m\u001b[0;34m'timeit'\u001b[0m\u001b[0;34m,\u001b[0m \u001b[0;34m'-n 1 -r 1 writter(add_formatted_checkout(file_type))'\u001b[0m\u001b[0;34m)\u001b[0m\u001b[0;34m\u001b[0m\u001b[0;34m\u001b[0m\u001b[0m\n\u001b[0m\u001b[1;32m     15\u001b[0m \u001b[0;34m\u001b[0m\u001b[0m\n",
      "\u001b[0;32m/Library/Frameworks/Python.framework/Versions/3.7/lib/python3.7/site-packages/IPython/core/interactiveshell.py\u001b[0m in \u001b[0;36mrun_line_magic\u001b[0;34m(self, magic_name, line, _stack_depth)\u001b[0m\n\u001b[1;32m   2315\u001b[0m                 \u001b[0mkwargs\u001b[0m\u001b[0;34m[\u001b[0m\u001b[0;34m'local_ns'\u001b[0m\u001b[0;34m]\u001b[0m \u001b[0;34m=\u001b[0m \u001b[0msys\u001b[0m\u001b[0;34m.\u001b[0m\u001b[0m_getframe\u001b[0m\u001b[0;34m(\u001b[0m\u001b[0mstack_depth\u001b[0m\u001b[0;34m)\u001b[0m\u001b[0;34m.\u001b[0m\u001b[0mf_locals\u001b[0m\u001b[0;34m\u001b[0m\u001b[0;34m\u001b[0m\u001b[0m\n\u001b[1;32m   2316\u001b[0m             \u001b[0;32mwith\u001b[0m \u001b[0mself\u001b[0m\u001b[0;34m.\u001b[0m\u001b[0mbuiltin_trap\u001b[0m\u001b[0;34m:\u001b[0m\u001b[0;34m\u001b[0m\u001b[0;34m\u001b[0m\u001b[0m\n\u001b[0;32m-> 2317\u001b[0;31m                 \u001b[0mresult\u001b[0m \u001b[0;34m=\u001b[0m \u001b[0mfn\u001b[0m\u001b[0;34m(\u001b[0m\u001b[0;34m*\u001b[0m\u001b[0margs\u001b[0m\u001b[0;34m,\u001b[0m \u001b[0;34m**\u001b[0m\u001b[0mkwargs\u001b[0m\u001b[0;34m)\u001b[0m\u001b[0;34m\u001b[0m\u001b[0;34m\u001b[0m\u001b[0m\n\u001b[0m\u001b[1;32m   2318\u001b[0m             \u001b[0;32mreturn\u001b[0m \u001b[0mresult\u001b[0m\u001b[0;34m\u001b[0m\u001b[0;34m\u001b[0m\u001b[0m\n\u001b[1;32m   2319\u001b[0m \u001b[0;34m\u001b[0m\u001b[0m\n",
      "\u001b[0;32m<decorator-gen-60>\u001b[0m in \u001b[0;36mtimeit\u001b[0;34m(self, line, cell, local_ns)\u001b[0m\n",
      "\u001b[0;32m/Library/Frameworks/Python.framework/Versions/3.7/lib/python3.7/site-packages/IPython/core/magic.py\u001b[0m in \u001b[0;36m<lambda>\u001b[0;34m(f, *a, **k)\u001b[0m\n\u001b[1;32m    185\u001b[0m     \u001b[0;31m# but it's overkill for just that one bit of state.\u001b[0m\u001b[0;34m\u001b[0m\u001b[0;34m\u001b[0m\u001b[0;34m\u001b[0m\u001b[0m\n\u001b[1;32m    186\u001b[0m     \u001b[0;32mdef\u001b[0m \u001b[0mmagic_deco\u001b[0m\u001b[0;34m(\u001b[0m\u001b[0marg\u001b[0m\u001b[0;34m)\u001b[0m\u001b[0;34m:\u001b[0m\u001b[0;34m\u001b[0m\u001b[0;34m\u001b[0m\u001b[0m\n\u001b[0;32m--> 187\u001b[0;31m         \u001b[0mcall\u001b[0m \u001b[0;34m=\u001b[0m \u001b[0;32mlambda\u001b[0m \u001b[0mf\u001b[0m\u001b[0;34m,\u001b[0m \u001b[0;34m*\u001b[0m\u001b[0ma\u001b[0m\u001b[0;34m,\u001b[0m \u001b[0;34m**\u001b[0m\u001b[0mk\u001b[0m\u001b[0;34m:\u001b[0m \u001b[0mf\u001b[0m\u001b[0;34m(\u001b[0m\u001b[0;34m*\u001b[0m\u001b[0ma\u001b[0m\u001b[0;34m,\u001b[0m \u001b[0;34m**\u001b[0m\u001b[0mk\u001b[0m\u001b[0;34m)\u001b[0m\u001b[0;34m\u001b[0m\u001b[0;34m\u001b[0m\u001b[0m\n\u001b[0m\u001b[1;32m    188\u001b[0m \u001b[0;34m\u001b[0m\u001b[0m\n\u001b[1;32m    189\u001b[0m         \u001b[0;32mif\u001b[0m \u001b[0mcallable\u001b[0m\u001b[0;34m(\u001b[0m\u001b[0marg\u001b[0m\u001b[0;34m)\u001b[0m\u001b[0;34m:\u001b[0m\u001b[0;34m\u001b[0m\u001b[0;34m\u001b[0m\u001b[0m\n",
      "\u001b[0;32m/Library/Frameworks/Python.framework/Versions/3.7/lib/python3.7/site-packages/IPython/core/magics/execution.py\u001b[0m in \u001b[0;36mtimeit\u001b[0;34m(self, line, cell, local_ns)\u001b[0m\n\u001b[1;32m   1162\u001b[0m                     \u001b[0;32mbreak\u001b[0m\u001b[0;34m\u001b[0m\u001b[0;34m\u001b[0m\u001b[0m\n\u001b[1;32m   1163\u001b[0m \u001b[0;34m\u001b[0m\u001b[0m\n\u001b[0;32m-> 1164\u001b[0;31m         \u001b[0mall_runs\u001b[0m \u001b[0;34m=\u001b[0m \u001b[0mtimer\u001b[0m\u001b[0;34m.\u001b[0m\u001b[0mrepeat\u001b[0m\u001b[0;34m(\u001b[0m\u001b[0mrepeat\u001b[0m\u001b[0;34m,\u001b[0m \u001b[0mnumber\u001b[0m\u001b[0;34m)\u001b[0m\u001b[0;34m\u001b[0m\u001b[0;34m\u001b[0m\u001b[0m\n\u001b[0m\u001b[1;32m   1165\u001b[0m         \u001b[0mbest\u001b[0m \u001b[0;34m=\u001b[0m \u001b[0mmin\u001b[0m\u001b[0;34m(\u001b[0m\u001b[0mall_runs\u001b[0m\u001b[0;34m)\u001b[0m \u001b[0;34m/\u001b[0m \u001b[0mnumber\u001b[0m\u001b[0;34m\u001b[0m\u001b[0;34m\u001b[0m\u001b[0m\n\u001b[1;32m   1166\u001b[0m         \u001b[0mworst\u001b[0m \u001b[0;34m=\u001b[0m \u001b[0mmax\u001b[0m\u001b[0;34m(\u001b[0m\u001b[0mall_runs\u001b[0m\u001b[0;34m)\u001b[0m \u001b[0;34m/\u001b[0m \u001b[0mnumber\u001b[0m\u001b[0;34m\u001b[0m\u001b[0;34m\u001b[0m\u001b[0m\n",
      "\u001b[0;32m/Library/Frameworks/Python.framework/Versions/3.7/lib/python3.7/timeit.py\u001b[0m in \u001b[0;36mrepeat\u001b[0;34m(self, repeat, number)\u001b[0m\n\u001b[1;32m    202\u001b[0m         \u001b[0mr\u001b[0m \u001b[0;34m=\u001b[0m \u001b[0;34m[\u001b[0m\u001b[0;34m]\u001b[0m\u001b[0;34m\u001b[0m\u001b[0;34m\u001b[0m\u001b[0m\n\u001b[1;32m    203\u001b[0m         \u001b[0;32mfor\u001b[0m \u001b[0mi\u001b[0m \u001b[0;32min\u001b[0m \u001b[0mrange\u001b[0m\u001b[0;34m(\u001b[0m\u001b[0mrepeat\u001b[0m\u001b[0;34m)\u001b[0m\u001b[0;34m:\u001b[0m\u001b[0;34m\u001b[0m\u001b[0;34m\u001b[0m\u001b[0m\n\u001b[0;32m--> 204\u001b[0;31m             \u001b[0mt\u001b[0m \u001b[0;34m=\u001b[0m \u001b[0mself\u001b[0m\u001b[0;34m.\u001b[0m\u001b[0mtimeit\u001b[0m\u001b[0;34m(\u001b[0m\u001b[0mnumber\u001b[0m\u001b[0;34m)\u001b[0m\u001b[0;34m\u001b[0m\u001b[0;34m\u001b[0m\u001b[0m\n\u001b[0m\u001b[1;32m    205\u001b[0m             \u001b[0mr\u001b[0m\u001b[0;34m.\u001b[0m\u001b[0mappend\u001b[0m\u001b[0;34m(\u001b[0m\u001b[0mt\u001b[0m\u001b[0;34m)\u001b[0m\u001b[0;34m\u001b[0m\u001b[0;34m\u001b[0m\u001b[0m\n\u001b[1;32m    206\u001b[0m         \u001b[0;32mreturn\u001b[0m \u001b[0mr\u001b[0m\u001b[0;34m\u001b[0m\u001b[0;34m\u001b[0m\u001b[0m\n",
      "\u001b[0;32m/Library/Frameworks/Python.framework/Versions/3.7/lib/python3.7/site-packages/IPython/core/magics/execution.py\u001b[0m in \u001b[0;36mtimeit\u001b[0;34m(self, number)\u001b[0m\n\u001b[1;32m    167\u001b[0m         \u001b[0mgc\u001b[0m\u001b[0;34m.\u001b[0m\u001b[0mdisable\u001b[0m\u001b[0;34m(\u001b[0m\u001b[0;34m)\u001b[0m\u001b[0;34m\u001b[0m\u001b[0;34m\u001b[0m\u001b[0m\n\u001b[1;32m    168\u001b[0m         \u001b[0;32mtry\u001b[0m\u001b[0;34m:\u001b[0m\u001b[0;34m\u001b[0m\u001b[0;34m\u001b[0m\u001b[0m\n\u001b[0;32m--> 169\u001b[0;31m             \u001b[0mtiming\u001b[0m \u001b[0;34m=\u001b[0m \u001b[0mself\u001b[0m\u001b[0;34m.\u001b[0m\u001b[0minner\u001b[0m\u001b[0;34m(\u001b[0m\u001b[0mit\u001b[0m\u001b[0;34m,\u001b[0m \u001b[0mself\u001b[0m\u001b[0;34m.\u001b[0m\u001b[0mtimer\u001b[0m\u001b[0;34m)\u001b[0m\u001b[0;34m\u001b[0m\u001b[0;34m\u001b[0m\u001b[0m\n\u001b[0m\u001b[1;32m    170\u001b[0m         \u001b[0;32mfinally\u001b[0m\u001b[0;34m:\u001b[0m\u001b[0;34m\u001b[0m\u001b[0;34m\u001b[0m\u001b[0m\n\u001b[1;32m    171\u001b[0m             \u001b[0;32mif\u001b[0m \u001b[0mgcold\u001b[0m\u001b[0;34m:\u001b[0m\u001b[0;34m\u001b[0m\u001b[0;34m\u001b[0m\u001b[0m\n",
      "\u001b[0;32m<magic-timeit>\u001b[0m in \u001b[0;36minner\u001b[0;34m(_it, _timer)\u001b[0m\n",
      "\u001b[0;32m<ipython-input-3-58894a6a7c74>\u001b[0m in \u001b[0;36mwritter_csv\u001b[0;34m(df)\u001b[0m\n\u001b[1;32m      1\u001b[0m \u001b[0;32mdef\u001b[0m \u001b[0mwritter_csv\u001b[0m\u001b[0;34m(\u001b[0m\u001b[0mdf\u001b[0m\u001b[0;34m:\u001b[0m \u001b[0mDataFrame\u001b[0m\u001b[0;34m)\u001b[0m \u001b[0;34m->\u001b[0m \u001b[0;32mNone\u001b[0m\u001b[0;34m:\u001b[0m\u001b[0;34m\u001b[0m\u001b[0;34m\u001b[0m\u001b[0m\n\u001b[0;32m----> 2\u001b[0;31m     \u001b[0mdf\u001b[0m\u001b[0;34m.\u001b[0m\u001b[0mexport_csv\u001b[0m\u001b[0;34m(\u001b[0m\u001b[0;34m'./output/output.csv'\u001b[0m\u001b[0;34m,\u001b[0m \u001b[0mchunk_size\u001b[0m\u001b[0;34m=\u001b[0m\u001b[0;36m10000\u001b[0m\u001b[0;34m)\u001b[0m\u001b[0;34m\u001b[0m\u001b[0;34m\u001b[0m\u001b[0m\n\u001b[0m\u001b[1;32m      3\u001b[0m \u001b[0;34m\u001b[0m\u001b[0m\n\u001b[1;32m      4\u001b[0m \u001b[0;32mdef\u001b[0m \u001b[0mwritter_parquet\u001b[0m\u001b[0;34m(\u001b[0m\u001b[0mdf\u001b[0m\u001b[0;34m:\u001b[0m \u001b[0mDataFrame\u001b[0m\u001b[0;34m)\u001b[0m \u001b[0;34m->\u001b[0m\u001b[0;32mNone\u001b[0m\u001b[0;34m:\u001b[0m\u001b[0;34m\u001b[0m\u001b[0;34m\u001b[0m\u001b[0m\n\u001b[1;32m      5\u001b[0m     \u001b[0mdf\u001b[0m\u001b[0;34m.\u001b[0m\u001b[0mexport_parquet\u001b[0m\u001b[0;34m(\u001b[0m\u001b[0;34m\"./output/parquet_output\"\u001b[0m\u001b[0;34m)\u001b[0m\u001b[0;34m\u001b[0m\u001b[0;34m\u001b[0m\u001b[0m\n",
      "\u001b[0;32m/Library/Frameworks/Python.framework/Versions/3.7/lib/python3.7/site-packages/vaex/dataframe.py\u001b[0m in \u001b[0;36mexport_csv\u001b[0;34m(self, path, virtual, selection, progress, chunk_size, **kwargs)\u001b[0m\n\u001b[1;32m   5853\u001b[0m                 \u001b[0mheader\u001b[0m \u001b[0;34m=\u001b[0m \u001b[0;32mFalse\u001b[0m\u001b[0;34m\u001b[0m\u001b[0;34m\u001b[0m\u001b[0m\n\u001b[1;32m   5854\u001b[0m \u001b[0;34m\u001b[0m\u001b[0m\n\u001b[0;32m-> 5855\u001b[0;31m             \u001b[0mchunk_pdf\u001b[0m\u001b[0;34m.\u001b[0m\u001b[0mto_csv\u001b[0m\u001b[0;34m(\u001b[0m\u001b[0mpath_or_buf\u001b[0m\u001b[0;34m=\u001b[0m\u001b[0mpath\u001b[0m\u001b[0;34m,\u001b[0m \u001b[0mmode\u001b[0m\u001b[0;34m=\u001b[0m\u001b[0mmode\u001b[0m\u001b[0;34m,\u001b[0m \u001b[0mheader\u001b[0m\u001b[0;34m=\u001b[0m\u001b[0mheader\u001b[0m\u001b[0;34m,\u001b[0m \u001b[0mindex\u001b[0m\u001b[0;34m=\u001b[0m\u001b[0;32mFalse\u001b[0m\u001b[0;34m,\u001b[0m \u001b[0;34m**\u001b[0m\u001b[0mkwargs\u001b[0m\u001b[0;34m)\u001b[0m\u001b[0;34m\u001b[0m\u001b[0;34m\u001b[0m\u001b[0m\n\u001b[0m\u001b[1;32m   5856\u001b[0m         \u001b[0mprogressbar\u001b[0m\u001b[0;34m(\u001b[0m\u001b[0;36m1.0\u001b[0m\u001b[0;34m)\u001b[0m\u001b[0;34m\u001b[0m\u001b[0;34m\u001b[0m\u001b[0m\n\u001b[1;32m   5857\u001b[0m         \u001b[0;32mreturn\u001b[0m\u001b[0;34m\u001b[0m\u001b[0;34m\u001b[0m\u001b[0m\n",
      "\u001b[0;32m/Library/Frameworks/Python.framework/Versions/3.7/lib/python3.7/site-packages/pandas/core/generic.py\u001b[0m in \u001b[0;36mto_csv\u001b[0;34m(self, path_or_buf, sep, na_rep, float_format, columns, header, index, index_label, mode, encoding, compression, quoting, quotechar, line_terminator, chunksize, date_format, doublequote, escapechar, decimal)\u001b[0m\n\u001b[1;32m   3202\u001b[0m             \u001b[0mdecimal\u001b[0m\u001b[0;34m=\u001b[0m\u001b[0mdecimal\u001b[0m\u001b[0;34m,\u001b[0m\u001b[0;34m\u001b[0m\u001b[0;34m\u001b[0m\u001b[0m\n\u001b[1;32m   3203\u001b[0m         )\n\u001b[0;32m-> 3204\u001b[0;31m         \u001b[0mformatter\u001b[0m\u001b[0;34m.\u001b[0m\u001b[0msave\u001b[0m\u001b[0;34m(\u001b[0m\u001b[0;34m)\u001b[0m\u001b[0;34m\u001b[0m\u001b[0;34m\u001b[0m\u001b[0m\n\u001b[0m\u001b[1;32m   3205\u001b[0m \u001b[0;34m\u001b[0m\u001b[0m\n\u001b[1;32m   3206\u001b[0m         \u001b[0;32mif\u001b[0m \u001b[0mpath_or_buf\u001b[0m \u001b[0;32mis\u001b[0m \u001b[0;32mNone\u001b[0m\u001b[0;34m:\u001b[0m\u001b[0;34m\u001b[0m\u001b[0;34m\u001b[0m\u001b[0m\n",
      "\u001b[0;32m/Library/Frameworks/Python.framework/Versions/3.7/lib/python3.7/site-packages/pandas/io/formats/csvs.py\u001b[0m in \u001b[0;36msave\u001b[0;34m(self)\u001b[0m\n\u001b[1;32m    202\u001b[0m             )\n\u001b[1;32m    203\u001b[0m \u001b[0;34m\u001b[0m\u001b[0m\n\u001b[0;32m--> 204\u001b[0;31m             \u001b[0mself\u001b[0m\u001b[0;34m.\u001b[0m\u001b[0m_save\u001b[0m\u001b[0;34m(\u001b[0m\u001b[0;34m)\u001b[0m\u001b[0;34m\u001b[0m\u001b[0;34m\u001b[0m\u001b[0m\n\u001b[0m\u001b[1;32m    205\u001b[0m \u001b[0;34m\u001b[0m\u001b[0m\n\u001b[1;32m    206\u001b[0m         \u001b[0;32mfinally\u001b[0m\u001b[0;34m:\u001b[0m\u001b[0;34m\u001b[0m\u001b[0;34m\u001b[0m\u001b[0m\n",
      "\u001b[0;32m/Library/Frameworks/Python.framework/Versions/3.7/lib/python3.7/site-packages/pandas/io/formats/csvs.py\u001b[0m in \u001b[0;36m_save\u001b[0;34m(self)\u001b[0m\n\u001b[1;32m    323\u001b[0m                 \u001b[0;32mbreak\u001b[0m\u001b[0;34m\u001b[0m\u001b[0;34m\u001b[0m\u001b[0m\n\u001b[1;32m    324\u001b[0m \u001b[0;34m\u001b[0m\u001b[0m\n\u001b[0;32m--> 325\u001b[0;31m             \u001b[0mself\u001b[0m\u001b[0;34m.\u001b[0m\u001b[0m_save_chunk\u001b[0m\u001b[0;34m(\u001b[0m\u001b[0mstart_i\u001b[0m\u001b[0;34m,\u001b[0m \u001b[0mend_i\u001b[0m\u001b[0;34m)\u001b[0m\u001b[0;34m\u001b[0m\u001b[0;34m\u001b[0m\u001b[0m\n\u001b[0m\u001b[1;32m    326\u001b[0m \u001b[0;34m\u001b[0m\u001b[0m\n\u001b[1;32m    327\u001b[0m     \u001b[0;32mdef\u001b[0m \u001b[0m_save_chunk\u001b[0m\u001b[0;34m(\u001b[0m\u001b[0mself\u001b[0m\u001b[0;34m,\u001b[0m \u001b[0mstart_i\u001b[0m\u001b[0;34m:\u001b[0m \u001b[0mint\u001b[0m\u001b[0;34m,\u001b[0m \u001b[0mend_i\u001b[0m\u001b[0;34m:\u001b[0m \u001b[0mint\u001b[0m\u001b[0;34m)\u001b[0m \u001b[0;34m->\u001b[0m \u001b[0;32mNone\u001b[0m\u001b[0;34m:\u001b[0m\u001b[0;34m\u001b[0m\u001b[0;34m\u001b[0m\u001b[0m\n",
      "\u001b[0;32m/Library/Frameworks/Python.framework/Versions/3.7/lib/python3.7/site-packages/pandas/io/formats/csvs.py\u001b[0m in \u001b[0;36m_save_chunk\u001b[0;34m(self, start_i, end_i)\u001b[0m\n\u001b[1;32m    338\u001b[0m                 \u001b[0mdecimal\u001b[0m\u001b[0;34m=\u001b[0m\u001b[0mself\u001b[0m\u001b[0;34m.\u001b[0m\u001b[0mdecimal\u001b[0m\u001b[0;34m,\u001b[0m\u001b[0;34m\u001b[0m\u001b[0;34m\u001b[0m\u001b[0m\n\u001b[1;32m    339\u001b[0m                 \u001b[0mdate_format\u001b[0m\u001b[0;34m=\u001b[0m\u001b[0mself\u001b[0m\u001b[0;34m.\u001b[0m\u001b[0mdate_format\u001b[0m\u001b[0;34m,\u001b[0m\u001b[0;34m\u001b[0m\u001b[0;34m\u001b[0m\u001b[0m\n\u001b[0;32m--> 340\u001b[0;31m                 \u001b[0mquoting\u001b[0m\u001b[0;34m=\u001b[0m\u001b[0mself\u001b[0m\u001b[0;34m.\u001b[0m\u001b[0mquoting\u001b[0m\u001b[0;34m,\u001b[0m\u001b[0;34m\u001b[0m\u001b[0;34m\u001b[0m\u001b[0m\n\u001b[0m\u001b[1;32m    341\u001b[0m             )\n\u001b[1;32m    342\u001b[0m \u001b[0;34m\u001b[0m\u001b[0m\n",
      "\u001b[0;32m/Library/Frameworks/Python.framework/Versions/3.7/lib/python3.7/site-packages/pandas/core/internals/blocks.py\u001b[0m in \u001b[0;36mto_native_types\u001b[0;34m(self, slicer, na_rep, date_format, quoting, **kwargs)\u001b[0m\n\u001b[1;32m   2263\u001b[0m             \u001b[0mtz\u001b[0m\u001b[0;34m=\u001b[0m\u001b[0mgetattr\u001b[0m\u001b[0;34m(\u001b[0m\u001b[0mself\u001b[0m\u001b[0;34m.\u001b[0m\u001b[0mvalues\u001b[0m\u001b[0;34m,\u001b[0m \u001b[0;34m\"tz\"\u001b[0m\u001b[0;34m,\u001b[0m \u001b[0;32mNone\u001b[0m\u001b[0;34m)\u001b[0m\u001b[0;34m,\u001b[0m\u001b[0;34m\u001b[0m\u001b[0;34m\u001b[0m\u001b[0m\n\u001b[1;32m   2264\u001b[0m             \u001b[0mformat\u001b[0m\u001b[0;34m=\u001b[0m\u001b[0mfmt\u001b[0m\u001b[0;34m,\u001b[0m\u001b[0;34m\u001b[0m\u001b[0;34m\u001b[0m\u001b[0m\n\u001b[0;32m-> 2265\u001b[0;31m             \u001b[0mna_rep\u001b[0m\u001b[0;34m=\u001b[0m\u001b[0mna_rep\u001b[0m\u001b[0;34m,\u001b[0m\u001b[0;34m\u001b[0m\u001b[0;34m\u001b[0m\u001b[0m\n\u001b[0m\u001b[1;32m   2266\u001b[0m         ).reshape(i8values.shape)\n\u001b[1;32m   2267\u001b[0m         \u001b[0;32mreturn\u001b[0m \u001b[0mnp\u001b[0m\u001b[0;34m.\u001b[0m\u001b[0matleast_2d\u001b[0m\u001b[0;34m(\u001b[0m\u001b[0mresult\u001b[0m\u001b[0;34m)\u001b[0m\u001b[0;34m\u001b[0m\u001b[0;34m\u001b[0m\u001b[0m\n",
      "\u001b[0;32mpandas/_libs/tslib.pyx\u001b[0m in \u001b[0;36mpandas._libs.tslib.format_array_from_datetime\u001b[0;34m()\u001b[0m\n",
      "\u001b[0;32m/Library/Frameworks/Python.framework/Versions/3.7/lib/python3.7/site-packages/numpy/core/_methods.py\u001b[0m in \u001b[0;36m_any\u001b[0;34m(a, axis, dtype, out, keepdims)\u001b[0m\n\u001b[1;32m     42\u001b[0m     \u001b[0;32mreturn\u001b[0m \u001b[0mumr_prod\u001b[0m\u001b[0;34m(\u001b[0m\u001b[0ma\u001b[0m\u001b[0;34m,\u001b[0m \u001b[0maxis\u001b[0m\u001b[0;34m,\u001b[0m \u001b[0mdtype\u001b[0m\u001b[0;34m,\u001b[0m \u001b[0mout\u001b[0m\u001b[0;34m,\u001b[0m \u001b[0mkeepdims\u001b[0m\u001b[0;34m,\u001b[0m \u001b[0minitial\u001b[0m\u001b[0;34m,\u001b[0m \u001b[0mwhere\u001b[0m\u001b[0;34m)\u001b[0m\u001b[0;34m\u001b[0m\u001b[0;34m\u001b[0m\u001b[0m\n\u001b[1;32m     43\u001b[0m \u001b[0;34m\u001b[0m\u001b[0m\n\u001b[0;32m---> 44\u001b[0;31m \u001b[0;32mdef\u001b[0m \u001b[0m_any\u001b[0m\u001b[0;34m(\u001b[0m\u001b[0ma\u001b[0m\u001b[0;34m,\u001b[0m \u001b[0maxis\u001b[0m\u001b[0;34m=\u001b[0m\u001b[0;32mNone\u001b[0m\u001b[0;34m,\u001b[0m \u001b[0mdtype\u001b[0m\u001b[0;34m=\u001b[0m\u001b[0;32mNone\u001b[0m\u001b[0;34m,\u001b[0m \u001b[0mout\u001b[0m\u001b[0;34m=\u001b[0m\u001b[0;32mNone\u001b[0m\u001b[0;34m,\u001b[0m \u001b[0mkeepdims\u001b[0m\u001b[0;34m=\u001b[0m\u001b[0;32mFalse\u001b[0m\u001b[0;34m)\u001b[0m\u001b[0;34m:\u001b[0m\u001b[0;34m\u001b[0m\u001b[0;34m\u001b[0m\u001b[0m\n\u001b[0m\u001b[1;32m     45\u001b[0m     \u001b[0;32mreturn\u001b[0m \u001b[0mumr_any\u001b[0m\u001b[0;34m(\u001b[0m\u001b[0ma\u001b[0m\u001b[0;34m,\u001b[0m \u001b[0maxis\u001b[0m\u001b[0;34m,\u001b[0m \u001b[0mdtype\u001b[0m\u001b[0;34m,\u001b[0m \u001b[0mout\u001b[0m\u001b[0;34m,\u001b[0m \u001b[0mkeepdims\u001b[0m\u001b[0;34m)\u001b[0m\u001b[0;34m\u001b[0m\u001b[0;34m\u001b[0m\u001b[0m\n\u001b[1;32m     46\u001b[0m \u001b[0;34m\u001b[0m\u001b[0m\n",
      "\u001b[0;31mKeyboardInterrupt\u001b[0m: "
     ]
    }
   ],
   "source": [
    "for file_type in file_types:\n",
    "    for writter in wr:\n",
    "            print(f\"read + write. file_type: {file_type}, writter: {writter.__name__}\")\n",
    "            %timeit -n 1 -r 5 writter(get_inventory_no_dedup(file_type))\n",
    "            print(f\"Read, dedup, write. file_type: {file_type}, writter: {writter.__name__}\")\n",
    "            %timeit -n 1 -r 5 writter(get_inventory(file_type))\n",
    "            print(f\"Get row count. file_type: {file_type}, writter: {writter.__name__}\")\n",
    "            %timeit -n 1 -r 5 get_checkouts(file_type).count()\n",
    "            #print(f\"add timestamp, get first 10. file_type: {file_type}, writter: {writter.__name__}\")\n",
    "            #%timeit -n 1 -r 1 add_formatted_checkout(file_type).sort('CheckoutDateTime_formatted', ascending=True).head(10)\n",
    "            print(f\"Checkouts Read + Write. file_type: {file_type}, writter: {writter.__name__}\")\n",
    "            %timeit -n 1 -r 1 writter(get_checkouts(file_type))\n",
    "            print(f\"Add timestamp and write. file_type: {file_type}, writter: {writter.__name__}\")\n",
    "            %timeit -n 1 -r 1 writter(add_formatted_checkout(file_type))\n",
    "\n"
   ]
  },
  {
   "cell_type": "code",
   "execution_count": null,
   "metadata": {},
   "outputs": [],
   "source": [
    "for file_type in file_types:\n",
    "        stop_list = []\n",
    "        for i in range(5):\n",
    "            start = timeit.default_timer()\n",
    "            df = add_formatted_checkout(file_type)\n",
    "            df = df.CheckoutTime_formated.min()\n",
    "            print(df)\n",
    "            stop = timeit.default_timer()\n",
    "            stop_list = stop_list.append(stop-start)\n",
    "        print(f\"file_type: {file_type}, runtime: {sum(stop_list)/len(stop_list)}\")"
   ]
  },
  {
   "cell_type": "code",
   "execution_count": null,
   "metadata": {},
   "outputs": [],
   "source": [
    "for file_type in file_types:\n",
    "    stop_list = []\n",
    "    for i in range(5):\n",
    "        start = timeit.default_timer()\n",
    "        checkouts = get_checkouts(\"parquet\")[[\"BibNumber\", \"CheckoutDateTime\"]]\n",
    "        inventory = get_inventory(\"parquet\")[[\"BibNum\", \"Author\"]]\n",
    "        merged = dd.merge(checkouts, inventory, left_on=\"BibNumber\", right_on=\"BibNum\", how=\"inner\")\n",
    "        merged.head()\n",
    "        stop = timeit.default_timer()\n",
    "        stop_list = stop_list.append(stop-start)\n",
    "    print(f\"file_type: {file_type}, runtime: {sum(stop_list)/len(stop_list)}\")"
   ]
  },
  {
   "cell_type": "code",
   "execution_count": null,
   "metadata": {},
   "outputs": [],
   "source": [
    "for file_type in file_types:\n",
    "    stop_list = []\n",
    "    for i in range(5):\n",
    "        start = timeit.default_timer()\n",
    "        checkouts = get_checkouts(\"parquet\")[[\"BibNumber\", \"CheckoutDateTime\"]]\n",
    "        inventory = get_inventory(\"parquet\")[[\"BibNum\", \"Author\"]]\n",
    "        merged = dd.merge(checkouts, inventory, left_on=\"BibNumber\", right_on=\"BibNum\", how=\"outer\", indicator=True)\n",
    "        merged[merged._merge==\"right_only\"].head()\n",
    "        stop = timeit.default_timer()\n",
    "        stop_list = stop_list.append(stop-start)\n",
    "    print(f\"file_type: {file_type}, runtime: {sum(stop_list)/len(stop_list)}\")"
   ]
  },
  {
   "cell_type": "code",
   "execution_count": null,
   "metadata": {},
   "outputs": [],
   "source": [
    "for file_type in file_types:\n",
    "    for writter in wr:\n",
    "        stop_list = []\n",
    "        for i in range(5):\n",
    "            start = timeit.default_timer()\n",
    "            inventory = get_inventory(file_type)[[\"BibNum\", \"Subjects\"]]\n",
    "            inventory['Subject'] = inventory['Subjects'].str.split(',').fillna(\"\")\n",
    "            inventory = inventory.explode(\"Subject\")\n",
    "            writter(inventory)\n",
    "            stop = timeit.default_timer()\n",
    "            stop_list = stop_list.append(stop-start)\n",
    "        print(f\"file_type: {file_type}, writter: {writter.__name__}, runtime: {sum(stop_list)/len(stop_list)}\")"
   ]
  },
  {
   "cell_type": "code",
   "execution_count": null,
   "metadata": {},
   "outputs": [],
   "source": [
    "for file_type in file_types:\n",
    "    stop_list = []\n",
    "    for i in range(5):\n",
    "        start = timeit.default_timer()\n",
    "        inventory = get_inventory(file_type)[[\"BibNum\", \"Subjects\"]]\n",
    "        inventory['Subject'] = inventory['Subjects'].str.split(',').fillna(\"\")\n",
    "        inventory = inventory.explode(\"Subject\")\n",
    "        inventory = inventory.groupby(inventory.Subject)[\"BibNum\"].nunique().astype(\"int64\"))\n",
    "        inventory.head()\n",
    "        stop = timeit.default_timer()\n",
    "        stop_list = stop_list.append(stop-start)\n",
    "    print(f\"file_type: {file_type}, runtime: {sum(stop_list)/len(stop_list)}\")"
   ]
  },
  {
   "cell_type": "code",
   "execution_count": null,
   "metadata": {},
   "outputs": [],
   "source": [
    "for file_type in file_types:\n",
    "    stop_list = []\n",
    "    for i in range(5):\n",
    "        start = timeit.default_timer()\n",
    "        checkouts = get_checkouts(\"parquet\")[[\"BibNumber\", \"CheckoutDateTime\"]]\n",
    "        inventory = get_inventory(file_type)[[\"BibNum\", \"Subjects\"]]\n",
    "        inventory['Subject'] = inventory['Subjects'].str.split(',').fillna(\"\")\n",
    "        inventory = inventory.explode(\"Subject\")\n",
    "        merged = dd.merge(checkouts, inventory, left_on=\"BibNumber\", right_on=\"BibNum\", how=\"inner\")\n",
    "        merged = merged.groupby(merged.Subject)[\"BibNum\"].nunique().astype(\"int64\")\n",
    "        merged.head()\n",
    "        stop = timeit.default_timer()\n",
    "        stop_list = stop_list.append(stop-start)\n",
    "    print(f\"file_type: {file_type}, writter: {writter.__name__}, runtime: {sum(stop_list)/len(stop_list)}\")"
   ]
  },
  {
   "cell_type": "code",
   "execution_count": null,
   "metadata": {},
   "outputs": [],
   "source": [
    "for file_type in file_types:\n",
    "    stop_list = []\n",
    "    for i in range(1):\n",
    "        start = timeit.default_timer()\n",
    "        checkouts = get_checkouts(\"parquet\")[[\"BibNumber\", \"CheckoutDateTime\"]]\n",
    "        inventory = get_inventory(file_type)[[\"BibNum\", \"Subjects\"]]\n",
    "        inventory['Subject'] = inventory['Subjects'].str.split(',').fillna(\"\")\n",
    "        inventory = inventory.explode(\"Subject\")\n",
    "        merged = dd.merge(checkouts, inventory, left_on=\"BibNumber\", right_on=\"BibNum\", how=\"inner\")\n",
    "        merged = merged.groupby(merged.index)[\"BibNum\"].nunique().astype(\"int64\").sort(\"BibNum\", ascending=False)\n",
    "        merged.head(10)\n",
    "        stop = timeit.default_timer()\n",
    "        stop_list = stop_list.append(stop-start)\n",
    "    print(f\"file_type: {file_type}, writter: {writter.__name__}, runtime: {sum(stop_list)/len(stop_list)}\")"
   ]
  },
  {
   "cell_type": "code",
   "execution_count": null,
   "metadata": {},
   "outputs": [],
   "source": []
  }
 ],
 "metadata": {
  "kernelspec": {
   "display_name": "Python 3",
   "language": "python",
   "name": "python3"
  },
  "language_info": {
   "codemirror_mode": {
    "name": "ipython",
    "version": 3
   },
   "file_extension": ".py",
   "mimetype": "text/x-python",
   "name": "python",
   "nbconvert_exporter": "python",
   "pygments_lexer": "ipython3",
   "version": "3.7.6"
  }
 },
 "nbformat": 4,
 "nbformat_minor": 2
}
