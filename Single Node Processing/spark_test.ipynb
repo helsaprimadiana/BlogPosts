{
 "cells": [
  {
   "cell_type": "code",
   "execution_count": 1,
   "metadata": {},
   "outputs": [],
   "source": [
    "from pyspark.sql import SparkSession\n",
    "from datetime import datetime\n",
    "from pyspark.sql.types import *\n",
    "import pandas as pd\n",
    "import pyspark.sql.functions as f \n",
    "\n",
    "spark = SparkSession.builder \\\n",
    "        .appName(\"Spark Benchmarking\") \\\n",
    "        .master('local[16]') \\\n",
    "        .getOrCreate()\n"
   ]
  },
  {
   "cell_type": "code",
   "execution_count": 3,
   "metadata": {},
   "outputs": [],
   "source": [
    "def spark_run(file_name, spark):\n",
    "    SCHEMA = StructType([StructField('key', IntegerType(), False),\n",
    "                         StructField('value1', IntegerType(), False),\n",
    "                         StructField('value2', IntegerType(), False),\n",
    "                         StructField('value3', IntegerType(), False),])\n",
    "\n",
    "    file_vals = spark\\\n",
    "        .read\\\n",
    "        .load(file_name, format=\"csv\", header='true', schema=SCHEMA)\\\n",
    "        .groupby(\"key\")\\\n",
    "        .agg(f.mean((f.col(\"value1\")-f.col(\"value2\"))/f.col(\"value3\")).alias(\"mean\"))\n",
    "    \n",
    "    fl = (file_name.split('.')[1]).split('/')[2]\n",
    "    file_vals.write.format('parquet').mode(\"overwrite\").save(f\"./output/{fl}\")\n",
    "    del file_vals\n",
    "    "
   ]
  },
  {
   "cell_type": "code",
   "execution_count": null,
   "metadata": {},
   "outputs": [],
   "source": [
    "\n",
    "import glob\n",
    "for filename in glob.glob('./data/*.csv'):\n",
    "    print(filename)\n",
    "    %timeit spark_run(filename, spark)"
   ]
  },
  {
   "cell_type": "code",
   "execution_count": 5,
   "metadata": {},
   "outputs": [],
   "source": [
    "spark_run('./data/sample_file_8.csv', spark)"
   ]
  },
  {
   "cell_type": "code",
   "execution_count": null,
   "metadata": {},
   "outputs": [],
   "source": []
  }
 ],
 "metadata": {
  "file_extension": ".py",
  "kernelspec": {
   "display_name": "Python 3",
   "language": "python",
   "name": "python3"
  },
  "language_info": {
   "codemirror_mode": {
    "name": "ipython",
    "version": 3
   },
   "file_extension": ".py",
   "mimetype": "text/x-python",
   "name": "python",
   "nbconvert_exporter": "python",
   "pygments_lexer": "ipython3",
   "version": "3.7.6"
  },
  "mimetype": "text/x-python",
  "name": "python",
  "npconvert_exporter": "python",
  "pygments_lexer": "ipython3",
  "version": 3
 },
 "nbformat": 4,
 "nbformat_minor": 2
}
